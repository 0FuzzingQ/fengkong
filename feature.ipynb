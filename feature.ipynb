{
 "cells": [
  {
   "cell_type": "code",
   "execution_count": 1,
   "metadata": {},
   "outputs": [],
   "source": [
    "import pandas as pd"
   ]
  },
  {
   "cell_type": "code",
   "execution_count": 2,
   "metadata": {},
   "outputs": [],
   "source": [
    "df1 = pd.read_csv(\"20181.csv\",skiprows=1,low_memory=False)\n",
    "df2 = pd.read_csv(\"20182.csv\",skiprows=1,low_memory=False)\n",
    "df3 = pd.read_csv(\"20183.csv\",skiprows=1,low_memory=False)\n",
    "df4 = pd.read_csv(\"20184.csv\",skiprows=1,low_memory=False)"
   ]
  },
  {
   "cell_type": "code",
   "execution_count": 3,
   "metadata": {},
   "outputs": [],
   "source": [
    "train = pd.concat([df1,df2,df3,df4],axis = 0)"
   ]
  },
  {
   "cell_type": "code",
   "execution_count": 4,
   "metadata": {},
   "outputs": [
    {
     "name": "stdout",
     "output_type": "stream",
     "text": [
      "<class 'pandas.core.frame.DataFrame'>\n",
      "Int64Index: 495250 entries, 0 to 128413\n",
      "Columns: 145 entries, id to settlement_term\n",
      "dtypes: float64(107), object(38)\n",
      "memory usage: 551.7+ MB\n"
     ]
    }
   ],
   "source": [
    "train.info()"
   ]
  },
  {
   "cell_type": "code",
   "execution_count": 5,
   "metadata": {},
   "outputs": [
    {
     "data": {
      "text/html": [
       "<div>\n",
       "<style scoped>\n",
       "    .dataframe tbody tr th:only-of-type {\n",
       "        vertical-align: middle;\n",
       "    }\n",
       "\n",
       "    .dataframe tbody tr th {\n",
       "        vertical-align: top;\n",
       "    }\n",
       "\n",
       "    .dataframe thead th {\n",
       "        text-align: right;\n",
       "    }\n",
       "</style>\n",
       "<table border=\"1\" class=\"dataframe\">\n",
       "  <thead>\n",
       "    <tr style=\"text-align: right;\">\n",
       "      <th></th>\n",
       "      <th>id</th>\n",
       "      <th>member_id</th>\n",
       "      <th>loan_amnt</th>\n",
       "      <th>funded_amnt</th>\n",
       "      <th>funded_amnt_inv</th>\n",
       "      <th>term</th>\n",
       "      <th>int_rate</th>\n",
       "      <th>installment</th>\n",
       "      <th>grade</th>\n",
       "      <th>sub_grade</th>\n",
       "      <th>...</th>\n",
       "      <th>hardship_payoff_balance_amount</th>\n",
       "      <th>hardship_last_payment_amount</th>\n",
       "      <th>disbursement_method</th>\n",
       "      <th>debt_settlement_flag</th>\n",
       "      <th>debt_settlement_flag_date</th>\n",
       "      <th>settlement_status</th>\n",
       "      <th>settlement_date</th>\n",
       "      <th>settlement_amount</th>\n",
       "      <th>settlement_percentage</th>\n",
       "      <th>settlement_term</th>\n",
       "    </tr>\n",
       "  </thead>\n",
       "  <tbody>\n",
       "    <tr>\n",
       "      <th>0</th>\n",
       "      <td>NaN</td>\n",
       "      <td>NaN</td>\n",
       "      <td>30000.0</td>\n",
       "      <td>30000.0</td>\n",
       "      <td>30000.0</td>\n",
       "      <td>36 months</td>\n",
       "      <td>7.34%</td>\n",
       "      <td>930.99</td>\n",
       "      <td>A</td>\n",
       "      <td>A4</td>\n",
       "      <td>...</td>\n",
       "      <td>NaN</td>\n",
       "      <td>NaN</td>\n",
       "      <td>Cash</td>\n",
       "      <td>N</td>\n",
       "      <td>NaN</td>\n",
       "      <td>NaN</td>\n",
       "      <td>NaN</td>\n",
       "      <td>NaN</td>\n",
       "      <td>NaN</td>\n",
       "      <td>NaN</td>\n",
       "    </tr>\n",
       "    <tr>\n",
       "      <th>1</th>\n",
       "      <td>NaN</td>\n",
       "      <td>NaN</td>\n",
       "      <td>34825.0</td>\n",
       "      <td>34825.0</td>\n",
       "      <td>34825.0</td>\n",
       "      <td>60 months</td>\n",
       "      <td>12.61%</td>\n",
       "      <td>785.45</td>\n",
       "      <td>C</td>\n",
       "      <td>C1</td>\n",
       "      <td>...</td>\n",
       "      <td>NaN</td>\n",
       "      <td>NaN</td>\n",
       "      <td>Cash</td>\n",
       "      <td>N</td>\n",
       "      <td>NaN</td>\n",
       "      <td>NaN</td>\n",
       "      <td>NaN</td>\n",
       "      <td>NaN</td>\n",
       "      <td>NaN</td>\n",
       "      <td>NaN</td>\n",
       "    </tr>\n",
       "    <tr>\n",
       "      <th>2</th>\n",
       "      <td>NaN</td>\n",
       "      <td>NaN</td>\n",
       "      <td>2600.0</td>\n",
       "      <td>2600.0</td>\n",
       "      <td>2600.0</td>\n",
       "      <td>36 months</td>\n",
       "      <td>7.96%</td>\n",
       "      <td>81.43</td>\n",
       "      <td>A</td>\n",
       "      <td>A5</td>\n",
       "      <td>...</td>\n",
       "      <td>NaN</td>\n",
       "      <td>NaN</td>\n",
       "      <td>Cash</td>\n",
       "      <td>N</td>\n",
       "      <td>NaN</td>\n",
       "      <td>NaN</td>\n",
       "      <td>NaN</td>\n",
       "      <td>NaN</td>\n",
       "      <td>NaN</td>\n",
       "      <td>NaN</td>\n",
       "    </tr>\n",
       "    <tr>\n",
       "      <th>3</th>\n",
       "      <td>NaN</td>\n",
       "      <td>NaN</td>\n",
       "      <td>20000.0</td>\n",
       "      <td>20000.0</td>\n",
       "      <td>20000.0</td>\n",
       "      <td>60 months</td>\n",
       "      <td>9.92%</td>\n",
       "      <td>424.16</td>\n",
       "      <td>B</td>\n",
       "      <td>B2</td>\n",
       "      <td>...</td>\n",
       "      <td>NaN</td>\n",
       "      <td>NaN</td>\n",
       "      <td>Cash</td>\n",
       "      <td>N</td>\n",
       "      <td>NaN</td>\n",
       "      <td>NaN</td>\n",
       "      <td>NaN</td>\n",
       "      <td>NaN</td>\n",
       "      <td>NaN</td>\n",
       "      <td>NaN</td>\n",
       "    </tr>\n",
       "    <tr>\n",
       "      <th>4</th>\n",
       "      <td>NaN</td>\n",
       "      <td>NaN</td>\n",
       "      <td>17000.0</td>\n",
       "      <td>17000.0</td>\n",
       "      <td>17000.0</td>\n",
       "      <td>60 months</td>\n",
       "      <td>20.39%</td>\n",
       "      <td>454.10</td>\n",
       "      <td>D</td>\n",
       "      <td>D4</td>\n",
       "      <td>...</td>\n",
       "      <td>NaN</td>\n",
       "      <td>NaN</td>\n",
       "      <td>Cash</td>\n",
       "      <td>N</td>\n",
       "      <td>NaN</td>\n",
       "      <td>NaN</td>\n",
       "      <td>NaN</td>\n",
       "      <td>NaN</td>\n",
       "      <td>NaN</td>\n",
       "      <td>NaN</td>\n",
       "    </tr>\n",
       "  </tbody>\n",
       "</table>\n",
       "<p>5 rows × 145 columns</p>\n",
       "</div>"
      ],
      "text/plain": [
       "    id  member_id  loan_amnt  funded_amnt  funded_amnt_inv        term  \\\n",
       "0  NaN        NaN    30000.0      30000.0          30000.0   36 months   \n",
       "1  NaN        NaN    34825.0      34825.0          34825.0   60 months   \n",
       "2  NaN        NaN     2600.0       2600.0           2600.0   36 months   \n",
       "3  NaN        NaN    20000.0      20000.0          20000.0   60 months   \n",
       "4  NaN        NaN    17000.0      17000.0          17000.0   60 months   \n",
       "\n",
       "  int_rate  installment grade sub_grade       ...         \\\n",
       "0    7.34%       930.99     A        A4       ...          \n",
       "1   12.61%       785.45     C        C1       ...          \n",
       "2    7.96%        81.43     A        A5       ...          \n",
       "3    9.92%       424.16     B        B2       ...          \n",
       "4   20.39%       454.10     D        D4       ...          \n",
       "\n",
       "  hardship_payoff_balance_amount hardship_last_payment_amount  \\\n",
       "0                            NaN                          NaN   \n",
       "1                            NaN                          NaN   \n",
       "2                            NaN                          NaN   \n",
       "3                            NaN                          NaN   \n",
       "4                            NaN                          NaN   \n",
       "\n",
       "  disbursement_method  debt_settlement_flag debt_settlement_flag_date  \\\n",
       "0                Cash                     N                       NaN   \n",
       "1                Cash                     N                       NaN   \n",
       "2                Cash                     N                       NaN   \n",
       "3                Cash                     N                       NaN   \n",
       "4                Cash                     N                       NaN   \n",
       "\n",
       "  settlement_status settlement_date settlement_amount  settlement_percentage  \\\n",
       "0               NaN             NaN               NaN                    NaN   \n",
       "1               NaN             NaN               NaN                    NaN   \n",
       "2               NaN             NaN               NaN                    NaN   \n",
       "3               NaN             NaN               NaN                    NaN   \n",
       "4               NaN             NaN               NaN                    NaN   \n",
       "\n",
       "   settlement_term  \n",
       "0              NaN  \n",
       "1              NaN  \n",
       "2              NaN  \n",
       "3              NaN  \n",
       "4              NaN  \n",
       "\n",
       "[5 rows x 145 columns]"
      ]
     },
     "execution_count": 5,
     "metadata": {},
     "output_type": "execute_result"
    }
   ],
   "source": [
    "train.head()"
   ]
  },
  {
   "cell_type": "code",
   "execution_count": 6,
   "metadata": {},
   "outputs": [],
   "source": [
    "train.drop([\"id\",\"member_id\"],axis=1,inplace=True)"
   ]
  },
  {
   "cell_type": "code",
   "execution_count": 7,
   "metadata": {},
   "outputs": [
    {
     "name": "stdout",
     "output_type": "stream",
     "text": [
      "<class 'pandas.core.frame.DataFrame'>\n",
      "Int64Index: 495250 entries, 0 to 128413\n",
      "Columns: 143 entries, loan_amnt to settlement_term\n",
      "dtypes: float64(106), object(37)\n",
      "memory usage: 544.1+ MB\n"
     ]
    }
   ],
   "source": [
    "train.info()"
   ]
  },
  {
   "cell_type": "code",
   "execution_count": 8,
   "metadata": {},
   "outputs": [],
   "source": [
    "train = train.dropna(how=\"all\")"
   ]
  },
  {
   "cell_type": "code",
   "execution_count": 9,
   "metadata": {},
   "outputs": [
    {
     "data": {
      "text/html": [
       "<div>\n",
       "<style scoped>\n",
       "    .dataframe tbody tr th:only-of-type {\n",
       "        vertical-align: middle;\n",
       "    }\n",
       "\n",
       "    .dataframe tbody tr th {\n",
       "        vertical-align: top;\n",
       "    }\n",
       "\n",
       "    .dataframe thead th {\n",
       "        text-align: right;\n",
       "    }\n",
       "</style>\n",
       "<table border=\"1\" class=\"dataframe\">\n",
       "  <thead>\n",
       "    <tr style=\"text-align: right;\">\n",
       "      <th></th>\n",
       "      <th>loan_amnt</th>\n",
       "      <th>funded_amnt</th>\n",
       "      <th>funded_amnt_inv</th>\n",
       "      <th>term</th>\n",
       "      <th>int_rate</th>\n",
       "      <th>installment</th>\n",
       "      <th>grade</th>\n",
       "      <th>sub_grade</th>\n",
       "      <th>emp_title</th>\n",
       "      <th>emp_length</th>\n",
       "      <th>...</th>\n",
       "      <th>hardship_payoff_balance_amount</th>\n",
       "      <th>hardship_last_payment_amount</th>\n",
       "      <th>disbursement_method</th>\n",
       "      <th>debt_settlement_flag</th>\n",
       "      <th>debt_settlement_flag_date</th>\n",
       "      <th>settlement_status</th>\n",
       "      <th>settlement_date</th>\n",
       "      <th>settlement_amount</th>\n",
       "      <th>settlement_percentage</th>\n",
       "      <th>settlement_term</th>\n",
       "    </tr>\n",
       "  </thead>\n",
       "  <tbody>\n",
       "    <tr>\n",
       "      <th>0</th>\n",
       "      <td>30000.0</td>\n",
       "      <td>30000.0</td>\n",
       "      <td>30000.0</td>\n",
       "      <td>36 months</td>\n",
       "      <td>7.34%</td>\n",
       "      <td>930.99</td>\n",
       "      <td>A</td>\n",
       "      <td>A4</td>\n",
       "      <td>Owner</td>\n",
       "      <td>3 years</td>\n",
       "      <td>...</td>\n",
       "      <td>NaN</td>\n",
       "      <td>NaN</td>\n",
       "      <td>Cash</td>\n",
       "      <td>N</td>\n",
       "      <td>NaN</td>\n",
       "      <td>NaN</td>\n",
       "      <td>NaN</td>\n",
       "      <td>NaN</td>\n",
       "      <td>NaN</td>\n",
       "      <td>NaN</td>\n",
       "    </tr>\n",
       "    <tr>\n",
       "      <th>1</th>\n",
       "      <td>34825.0</td>\n",
       "      <td>34825.0</td>\n",
       "      <td>34825.0</td>\n",
       "      <td>60 months</td>\n",
       "      <td>12.61%</td>\n",
       "      <td>785.45</td>\n",
       "      <td>C</td>\n",
       "      <td>C1</td>\n",
       "      <td>Collision Technician</td>\n",
       "      <td>2 years</td>\n",
       "      <td>...</td>\n",
       "      <td>NaN</td>\n",
       "      <td>NaN</td>\n",
       "      <td>Cash</td>\n",
       "      <td>N</td>\n",
       "      <td>NaN</td>\n",
       "      <td>NaN</td>\n",
       "      <td>NaN</td>\n",
       "      <td>NaN</td>\n",
       "      <td>NaN</td>\n",
       "      <td>NaN</td>\n",
       "    </tr>\n",
       "    <tr>\n",
       "      <th>2</th>\n",
       "      <td>2600.0</td>\n",
       "      <td>2600.0</td>\n",
       "      <td>2600.0</td>\n",
       "      <td>36 months</td>\n",
       "      <td>7.96%</td>\n",
       "      <td>81.43</td>\n",
       "      <td>A</td>\n",
       "      <td>A5</td>\n",
       "      <td>Occupational Therapist</td>\n",
       "      <td>3 years</td>\n",
       "      <td>...</td>\n",
       "      <td>NaN</td>\n",
       "      <td>NaN</td>\n",
       "      <td>Cash</td>\n",
       "      <td>N</td>\n",
       "      <td>NaN</td>\n",
       "      <td>NaN</td>\n",
       "      <td>NaN</td>\n",
       "      <td>NaN</td>\n",
       "      <td>NaN</td>\n",
       "      <td>NaN</td>\n",
       "    </tr>\n",
       "    <tr>\n",
       "      <th>3</th>\n",
       "      <td>20000.0</td>\n",
       "      <td>20000.0</td>\n",
       "      <td>20000.0</td>\n",
       "      <td>60 months</td>\n",
       "      <td>9.92%</td>\n",
       "      <td>424.16</td>\n",
       "      <td>B</td>\n",
       "      <td>B2</td>\n",
       "      <td>Sr. Education Specialist</td>\n",
       "      <td>3 years</td>\n",
       "      <td>...</td>\n",
       "      <td>NaN</td>\n",
       "      <td>NaN</td>\n",
       "      <td>Cash</td>\n",
       "      <td>N</td>\n",
       "      <td>NaN</td>\n",
       "      <td>NaN</td>\n",
       "      <td>NaN</td>\n",
       "      <td>NaN</td>\n",
       "      <td>NaN</td>\n",
       "      <td>NaN</td>\n",
       "    </tr>\n",
       "    <tr>\n",
       "      <th>4</th>\n",
       "      <td>17000.0</td>\n",
       "      <td>17000.0</td>\n",
       "      <td>17000.0</td>\n",
       "      <td>60 months</td>\n",
       "      <td>20.39%</td>\n",
       "      <td>454.10</td>\n",
       "      <td>D</td>\n",
       "      <td>D4</td>\n",
       "      <td>Independent Business Owner</td>\n",
       "      <td>10+ years</td>\n",
       "      <td>...</td>\n",
       "      <td>NaN</td>\n",
       "      <td>NaN</td>\n",
       "      <td>Cash</td>\n",
       "      <td>N</td>\n",
       "      <td>NaN</td>\n",
       "      <td>NaN</td>\n",
       "      <td>NaN</td>\n",
       "      <td>NaN</td>\n",
       "      <td>NaN</td>\n",
       "      <td>NaN</td>\n",
       "    </tr>\n",
       "  </tbody>\n",
       "</table>\n",
       "<p>5 rows × 143 columns</p>\n",
       "</div>"
      ],
      "text/plain": [
       "   loan_amnt  funded_amnt  funded_amnt_inv        term int_rate  installment  \\\n",
       "0    30000.0      30000.0          30000.0   36 months    7.34%       930.99   \n",
       "1    34825.0      34825.0          34825.0   60 months   12.61%       785.45   \n",
       "2     2600.0       2600.0           2600.0   36 months    7.96%        81.43   \n",
       "3    20000.0      20000.0          20000.0   60 months    9.92%       424.16   \n",
       "4    17000.0      17000.0          17000.0   60 months   20.39%       454.10   \n",
       "\n",
       "  grade sub_grade                   emp_title emp_length       ...        \\\n",
       "0     A        A4                       Owner    3 years       ...         \n",
       "1     C        C1        Collision Technician    2 years       ...         \n",
       "2     A        A5      Occupational Therapist    3 years       ...         \n",
       "3     B        B2    Sr. Education Specialist    3 years       ...         \n",
       "4     D        D4  Independent Business Owner  10+ years       ...         \n",
       "\n",
       "  hardship_payoff_balance_amount  hardship_last_payment_amount  \\\n",
       "0                            NaN                           NaN   \n",
       "1                            NaN                           NaN   \n",
       "2                            NaN                           NaN   \n",
       "3                            NaN                           NaN   \n",
       "4                            NaN                           NaN   \n",
       "\n",
       "  disbursement_method debt_settlement_flag debt_settlement_flag_date  \\\n",
       "0                Cash                    N                       NaN   \n",
       "1                Cash                    N                       NaN   \n",
       "2                Cash                    N                       NaN   \n",
       "3                Cash                    N                       NaN   \n",
       "4                Cash                    N                       NaN   \n",
       "\n",
       "  settlement_status  settlement_date  settlement_amount settlement_percentage  \\\n",
       "0               NaN              NaN                NaN                   NaN   \n",
       "1               NaN              NaN                NaN                   NaN   \n",
       "2               NaN              NaN                NaN                   NaN   \n",
       "3               NaN              NaN                NaN                   NaN   \n",
       "4               NaN              NaN                NaN                   NaN   \n",
       "\n",
       "  settlement_term  \n",
       "0             NaN  \n",
       "1             NaN  \n",
       "2             NaN  \n",
       "3             NaN  \n",
       "4             NaN  \n",
       "\n",
       "[5 rows x 143 columns]"
      ]
     },
     "execution_count": 9,
     "metadata": {},
     "output_type": "execute_result"
    }
   ],
   "source": [
    "train.head()"
   ]
  },
  {
   "cell_type": "code",
   "execution_count": 10,
   "metadata": {},
   "outputs": [],
   "source": [
    "train = train.dropna(how=\"all\",axis=1)"
   ]
  },
  {
   "cell_type": "code",
   "execution_count": 14,
   "metadata": {},
   "outputs": [],
   "source": [
    "d_l = (train.isnull().sum()>100000)"
   ]
  },
  {
   "cell_type": "code",
   "execution_count": 16,
   "metadata": {},
   "outputs": [],
   "source": [
    "for i in d_l.keys():\n",
    "    if d_l[i] == True:\n",
    "        train.drop([i],axis=1,inplace=True)"
   ]
  },
  {
   "cell_type": "code",
   "execution_count": 25,
   "metadata": {},
   "outputs": [
    {
     "name": "stdout",
     "output_type": "stream",
     "text": [
      "Column term has 2 unique instances\n",
      "Column int_rate has 110 unique instances\n",
      "Column grade has 7 unique instances\n",
      "Column sub_grade has 35 unique instances\n",
      "Column emp_title has 129450 unique instances\n",
      "Column emp_length has 12 unique instances\n",
      "Column home_ownership has 4 unique instances\n",
      "Column verification_status has 3 unique instances\n",
      "Column issue_d has 12 unique instances\n",
      "Column loan_status has 7 unique instances\n",
      "Column pymnt_plan has 2 unique instances\n",
      "Column purpose has 13 unique instances\n",
      "Column title has 12 unique instances\n",
      "Column zip_code has 897 unique instances\n",
      "Column addr_state has 50 unique instances\n",
      "Column earliest_cr_line has 684 unique instances\n",
      "Column revol_util has 1137 unique instances\n",
      "Column initial_list_status has 2 unique instances\n",
      "Column last_pymnt_d has 15 unique instances\n",
      "Column next_pymnt_d has 5 unique instances\n",
      "Column last_credit_pull_d has 17 unique instances\n",
      "Column application_type has 2 unique instances\n",
      "Column hardship_flag has 2 unique instances\n",
      "Column disbursement_method has 2 unique instances\n",
      "Column debt_settlement_flag has 2 unique instances\n"
     ]
    }
   ],
   "source": [
    "for col in train.select_dtypes(include=['object']).columns:\n",
    "    print (\"Column {} has {} unique instances\".format( col, len(train[col].unique())) )"
   ]
  },
  {
   "cell_type": "code",
   "execution_count": 26,
   "metadata": {},
   "outputs": [],
   "source": [
    "train.drop([\"emp_title\"],axis=1,inplace=True)"
   ]
  },
  {
   "cell_type": "code",
   "execution_count": 29,
   "metadata": {},
   "outputs": [],
   "source": [
    "train.drop([\"revol_util\"],axis=1,inplace=True)"
   ]
  },
  {
   "cell_type": "code",
   "execution_count": 30,
   "metadata": {},
   "outputs": [],
   "source": [
    "train.drop([\"zip_code\"],axis=1,inplace=True)"
   ]
  },
  {
   "cell_type": "code",
   "execution_count": 35,
   "metadata": {},
   "outputs": [],
   "source": [
    "cor = train.corr()"
   ]
  },
  {
   "cell_type": "code",
   "execution_count": 56,
   "metadata": {},
   "outputs": [],
   "source": [
    "train.int_rate = train.int_rate.astype(\"float\").round(2)"
   ]
  },
  {
   "cell_type": "code",
   "execution_count": 58,
   "metadata": {},
   "outputs": [
    {
     "data": {
      "text/plain": [
       "Feb-2019    462774\n",
       "Jan-2019      8695\n",
       "Dec-2018      5247\n",
       "Nov-2018      4407\n",
       "Oct-2018      3698\n",
       "Sep-2018      2535\n",
       "Aug-2018      2109\n",
       "Jul-2018      2107\n",
       "May-2018       956\n",
       "Apr-2018       726\n",
       "Mar-2018       611\n",
       "Jun-2018       459\n",
       "Feb-2018       446\n",
       "Jan-2018       395\n",
       "Dec-2017        70\n",
       "Nov-2017         1\n",
       "Name: last_credit_pull_d, dtype: int64"
      ]
     },
     "execution_count": 58,
     "metadata": {},
     "output_type": "execute_result"
    }
   ],
   "source": [
    "train.last_credit_pull_d.value_counts()"
   ]
  },
  {
   "cell_type": "code",
   "execution_count": 71,
   "metadata": {},
   "outputs": [],
   "source": [
    "train.last_credit_pull_d = train.last_credit_pull_d.fillna(\"Feb-2019\")"
   ]
  },
  {
   "cell_type": "code",
   "execution_count": 72,
   "metadata": {},
   "outputs": [],
   "source": [
    "train[\"last_credit_pull_d_month\"] = train.last_credit_pull_d.apply(lambda x:x.split(\"-\")[0])\n",
    "train[\"last_credit_pull_d_year\"] = train.last_credit_pull_d.apply(lambda x:x.split(\"-\")[1])"
   ]
  },
  {
   "cell_type": "code",
   "execution_count": 81,
   "metadata": {},
   "outputs": [
    {
     "data": {
      "text/plain": [
       "May-2018    46311\n",
       "Oct-2018    46305\n",
       "Aug-2018    46079\n",
       "Jul-2018    43089\n",
       "Apr-2018    42928\n",
       "Nov-2018    41973\n",
       "Jun-2018    41533\n",
       "Dec-2018    40134\n",
       "Sep-2018    39026\n",
       "Mar-2018    38771\n",
       "Jan-2018    36347\n",
       "Feb-2018    32746\n",
       "Name: issue_d, dtype: int64"
      ]
     },
     "execution_count": 81,
     "metadata": {},
     "output_type": "execute_result"
    }
   ],
   "source": [
    "train.issue_d.value_counts()"
   ]
  },
  {
   "cell_type": "code",
   "execution_count": 82,
   "metadata": {},
   "outputs": [],
   "source": [
    "train[\"loan_month\"] = train.issue_d.apply(lambda x:x.split(\"-\")[0])\n",
    "train[\"loan_year\"] = train.issue_d.apply(lambda x:x.split(\"-\")[1])"
   ]
  },
  {
   "cell_type": "code",
   "execution_count": 84,
   "metadata": {},
   "outputs": [],
   "source": [
    "def getmonth(x):\n",
    "    if x == \"May\":\n",
    "        return 5\n",
    "    if x == \"Oct\":\n",
    "        return 10\n",
    "    if x == \"Aug\":\n",
    "        return 8\n",
    "    if x == \"Jul\":\n",
    "        return 7\n",
    "    if x == \"Apr\":\n",
    "        return 4\n",
    "    if x == \"Nov\":\n",
    "        return 11\n",
    "    if x == \"Dec\":\n",
    "        return 12\n",
    "    if x == \"Sep\":\n",
    "        return 9\n",
    "    if x == \"Mar\":\n",
    "        return 3\n",
    "    if x == \"Jan\":\n",
    "        return 1\n",
    "    if x == \"Feb\":\n",
    "        return 2\n",
    "    if x == \"Jun\":\n",
    "        return 6"
   ]
  },
  {
   "cell_type": "code",
   "execution_count": 85,
   "metadata": {},
   "outputs": [],
   "source": [
    "train[\"last_credit_pull_d_month\"] = train.last_credit_pull_d_month.apply(lambda x :getmonth(x))"
   ]
  },
  {
   "cell_type": "code",
   "execution_count": 87,
   "metadata": {},
   "outputs": [],
   "source": [
    "train[\"loan_month\"] = train.loan_month.apply(lambda x:getmonth(x))"
   ]
  },
  {
   "cell_type": "code",
   "execution_count": 91,
   "metadata": {},
   "outputs": [],
   "source": [
    "train[\"last_credit_pull_d_year\"] = train.last_credit_pull_d_year.apply(lambda x:int(x))"
   ]
  },
  {
   "cell_type": "code",
   "execution_count": 92,
   "metadata": {},
   "outputs": [],
   "source": [
    "train[\"loan_year\"] = train.loan_year.apply(lambda x:int(x))"
   ]
  },
  {
   "cell_type": "code",
   "execution_count": 93,
   "metadata": {},
   "outputs": [],
   "source": [
    "train[\"loan_last_start\"] = train[\"last_credit_pull_d_month\"] - train[\"loan_month\"] + 12 * (train[\"last_credit_pull_d_year\"]-train[\"loan_year\"])"
   ]
  },
  {
   "cell_type": "code",
   "execution_count": 94,
   "metadata": {},
   "outputs": [
    {
     "data": {
      "text/html": [
       "<div>\n",
       "<style scoped>\n",
       "    .dataframe tbody tr th:only-of-type {\n",
       "        vertical-align: middle;\n",
       "    }\n",
       "\n",
       "    .dataframe tbody tr th {\n",
       "        vertical-align: top;\n",
       "    }\n",
       "\n",
       "    .dataframe thead th {\n",
       "        text-align: right;\n",
       "    }\n",
       "</style>\n",
       "<table border=\"1\" class=\"dataframe\">\n",
       "  <thead>\n",
       "    <tr style=\"text-align: right;\">\n",
       "      <th></th>\n",
       "      <th>loan_amnt</th>\n",
       "      <th>funded_amnt</th>\n",
       "      <th>funded_amnt_inv</th>\n",
       "      <th>term</th>\n",
       "      <th>int_rate</th>\n",
       "      <th>installment</th>\n",
       "      <th>grade</th>\n",
       "      <th>sub_grade</th>\n",
       "      <th>emp_length</th>\n",
       "      <th>home_ownership</th>\n",
       "      <th>...</th>\n",
       "      <th>total_bc_limit</th>\n",
       "      <th>total_il_high_credit_limit</th>\n",
       "      <th>hardship_flag</th>\n",
       "      <th>disbursement_method</th>\n",
       "      <th>debt_settlement_flag</th>\n",
       "      <th>last_credit_pull_d_month</th>\n",
       "      <th>last_credit_pull_d_year</th>\n",
       "      <th>loan_month</th>\n",
       "      <th>loan_year</th>\n",
       "      <th>loan_last_start</th>\n",
       "    </tr>\n",
       "  </thead>\n",
       "  <tbody>\n",
       "    <tr>\n",
       "      <th>0</th>\n",
       "      <td>30000.0</td>\n",
       "      <td>30000.0</td>\n",
       "      <td>30000.0</td>\n",
       "      <td>36 months</td>\n",
       "      <td>7.34</td>\n",
       "      <td>930.99</td>\n",
       "      <td>A</td>\n",
       "      <td>A4</td>\n",
       "      <td>3 years</td>\n",
       "      <td>OWN</td>\n",
       "      <td>...</td>\n",
       "      <td>91000.0</td>\n",
       "      <td>40690.0</td>\n",
       "      <td>N</td>\n",
       "      <td>Cash</td>\n",
       "      <td>N</td>\n",
       "      <td>1</td>\n",
       "      <td>2019</td>\n",
       "      <td>3</td>\n",
       "      <td>2018</td>\n",
       "      <td>10</td>\n",
       "    </tr>\n",
       "    <tr>\n",
       "      <th>1</th>\n",
       "      <td>34825.0</td>\n",
       "      <td>34825.0</td>\n",
       "      <td>34825.0</td>\n",
       "      <td>60 months</td>\n",
       "      <td>12.61</td>\n",
       "      <td>785.45</td>\n",
       "      <td>C</td>\n",
       "      <td>C1</td>\n",
       "      <td>2 years</td>\n",
       "      <td>MORTGAGE</td>\n",
       "      <td>...</td>\n",
       "      <td>33900.0</td>\n",
       "      <td>94365.0</td>\n",
       "      <td>N</td>\n",
       "      <td>Cash</td>\n",
       "      <td>N</td>\n",
       "      <td>2</td>\n",
       "      <td>2019</td>\n",
       "      <td>3</td>\n",
       "      <td>2018</td>\n",
       "      <td>11</td>\n",
       "    </tr>\n",
       "    <tr>\n",
       "      <th>2</th>\n",
       "      <td>2600.0</td>\n",
       "      <td>2600.0</td>\n",
       "      <td>2600.0</td>\n",
       "      <td>36 months</td>\n",
       "      <td>7.96</td>\n",
       "      <td>81.43</td>\n",
       "      <td>A</td>\n",
       "      <td>A5</td>\n",
       "      <td>3 years</td>\n",
       "      <td>MORTGAGE</td>\n",
       "      <td>...</td>\n",
       "      <td>10500.0</td>\n",
       "      <td>62185.0</td>\n",
       "      <td>N</td>\n",
       "      <td>Cash</td>\n",
       "      <td>N</td>\n",
       "      <td>2</td>\n",
       "      <td>2019</td>\n",
       "      <td>3</td>\n",
       "      <td>2018</td>\n",
       "      <td>11</td>\n",
       "    </tr>\n",
       "  </tbody>\n",
       "</table>\n",
       "<p>3 rows × 104 columns</p>\n",
       "</div>"
      ],
      "text/plain": [
       "   loan_amnt  funded_amnt  funded_amnt_inv        term  int_rate  installment  \\\n",
       "0    30000.0      30000.0          30000.0   36 months      7.34       930.99   \n",
       "1    34825.0      34825.0          34825.0   60 months     12.61       785.45   \n",
       "2     2600.0       2600.0           2600.0   36 months      7.96        81.43   \n",
       "\n",
       "  grade sub_grade emp_length home_ownership       ...         total_bc_limit  \\\n",
       "0     A        A4    3 years            OWN       ...                91000.0   \n",
       "1     C        C1    2 years       MORTGAGE       ...                33900.0   \n",
       "2     A        A5    3 years       MORTGAGE       ...                10500.0   \n",
       "\n",
       "  total_il_high_credit_limit hardship_flag disbursement_method  \\\n",
       "0                    40690.0             N                Cash   \n",
       "1                    94365.0             N                Cash   \n",
       "2                    62185.0             N                Cash   \n",
       "\n",
       "  debt_settlement_flag last_credit_pull_d_month last_credit_pull_d_year  \\\n",
       "0                    N                        1                    2019   \n",
       "1                    N                        2                    2019   \n",
       "2                    N                        2                    2019   \n",
       "\n",
       "  loan_month  loan_year  loan_last_start  \n",
       "0          3       2018               10  \n",
       "1          3       2018               11  \n",
       "2          3       2018               11  \n",
       "\n",
       "[3 rows x 104 columns]"
      ]
     },
     "execution_count": 94,
     "metadata": {},
     "output_type": "execute_result"
    }
   ],
   "source": [
    "train.head(3)"
   ]
  },
  {
   "cell_type": "code",
   "execution_count": 95,
   "metadata": {
    "scrolled": true
   },
   "outputs": [
    {
     "name": "stdout",
     "output_type": "stream",
     "text": [
      "<class 'pandas.core.frame.DataFrame'>\n",
      "Int64Index: 495242 entries, 0 to 128411\n",
      "Columns: 104 entries, loan_amnt to loan_last_start\n",
      "dtypes: float64(78), int64(5), object(21)\n",
      "memory usage: 406.7+ MB\n"
     ]
    }
   ],
   "source": [
    "train.info()"
   ]
  },
  {
   "cell_type": "code",
   "execution_count": 96,
   "metadata": {},
   "outputs": [
    {
     "data": {
      "text/plain": [
       "Current               437318\n",
       "Fully Paid             40240\n",
       "Charged Off             6942\n",
       "Late (31-120 days)      6509\n",
       "In Grace Period         2901\n",
       "Late (16-30 days)       1323\n",
       "Default                    9\n",
       "Name: loan_status, dtype: int64"
      ]
     },
     "execution_count": 96,
     "metadata": {},
     "output_type": "execute_result"
    }
   ],
   "source": [
    "train.loan_status.value_counts()"
   ]
  },
  {
   "cell_type": "code",
   "execution_count": 97,
   "metadata": {},
   "outputs": [],
   "source": [
    "def getlabel(x):\n",
    "    if x == \"Late (31-120 days)\" or x == \"Late (16-30 days)\":\n",
    "        return 1\n",
    "    else:\n",
    "        return 0"
   ]
  },
  {
   "cell_type": "code",
   "execution_count": 98,
   "metadata": {},
   "outputs": [],
   "source": [
    "train[\"label\"] = train.loan_status.apply(lambda x:getlabel(x))"
   ]
  },
  {
   "cell_type": "code",
   "execution_count": 99,
   "metadata": {},
   "outputs": [
    {
     "name": "stdout",
     "output_type": "stream",
     "text": [
      "<class 'pandas.core.frame.DataFrame'>\n",
      "Int64Index: 495242 entries, 0 to 128411\n",
      "Columns: 105 entries, loan_amnt to label\n",
      "dtypes: float64(78), int64(6), object(21)\n",
      "memory usage: 410.5+ MB\n"
     ]
    }
   ],
   "source": [
    "train.info()"
   ]
  },
  {
   "cell_type": "code",
   "execution_count": 100,
   "metadata": {},
   "outputs": [
    {
     "data": {
      "text/plain": [
       "n    495140\n",
       "y       102\n",
       "Name: pymnt_plan, dtype: int64"
      ]
     },
     "execution_count": 100,
     "metadata": {},
     "output_type": "execute_result"
    }
   ],
   "source": [
    "train.pymnt_plan.value_counts()"
   ]
  },
  {
   "cell_type": "code",
   "execution_count": 101,
   "metadata": {},
   "outputs": [
    {
     "data": {
      "text/plain": [
       "debt_consolidation    259642\n",
       "credit_card           127702\n",
       "other                  35018\n",
       "home_improvement       32748\n",
       "major_purchase         11622\n",
       "medical                 6622\n",
       "house                   5430\n",
       "car                     4979\n",
       "small_business          4583\n",
       "vacation                3501\n",
       "moving                  3115\n",
       "renewable_energy         275\n",
       "wedding                    5\n",
       "Name: purpose, dtype: int64"
      ]
     },
     "execution_count": 101,
     "metadata": {},
     "output_type": "execute_result"
    }
   ],
   "source": [
    "train.purpose.value_counts()"
   ]
  },
  {
   "cell_type": "code",
   "execution_count": 102,
   "metadata": {},
   "outputs": [
    {
     "data": {
      "text/plain": [
       "Debt consolidation         259642\n",
       "Credit card refinancing    127702\n",
       "Other                       35023\n",
       "Home improvement            32748\n",
       "Major purchase              11622\n",
       "Medical expenses             6622\n",
       "Home buying                  5430\n",
       "Car financing                4979\n",
       "Business                     4583\n",
       "Vacation                     3501\n",
       "Moving and relocation        3115\n",
       "Green loan                    275\n",
       "Name: title, dtype: int64"
      ]
     },
     "execution_count": 102,
     "metadata": {},
     "output_type": "execute_result"
    }
   ],
   "source": [
    "train.title.value_counts()"
   ]
  },
  {
   "cell_type": "code",
   "execution_count": 103,
   "metadata": {},
   "outputs": [
    {
     "data": {
      "text/plain": [
       "CA    67267\n",
       "TX    40901\n",
       "NY    39595\n",
       "FL    37387\n",
       "IL    19674\n",
       "NJ    17808\n",
       "GA    16396\n",
       "OH    16037\n",
       "PA    15999\n",
       "NC    13631\n",
       "VA    12960\n",
       "MI    12595\n",
       "AZ    12149\n",
       "MD    12055\n",
       "MA    11187\n",
       "CO    11112\n",
       "WA    10280\n",
       "IN     8377\n",
       "TN     8192\n",
       "MN     8091\n",
       "CT     7954\n",
       "MO     7859\n",
       "NV     7615\n",
       "WI     6560\n",
       "SC     6421\n",
       "OR     6033\n",
       "AL     5604\n",
       "LA     5195\n",
       "KY     4801\n",
       "OK     4597\n",
       "KS     3934\n",
       "AR     3810\n",
       "UT     3160\n",
       "MS     3093\n",
       "WV     2826\n",
       "NM     2545\n",
       "NH     2470\n",
       "NE     2395\n",
       "RI     2265\n",
       "HI     2081\n",
       "ID     1746\n",
       "ME     1602\n",
       "DE     1449\n",
       "MT     1345\n",
       "VT     1156\n",
       "ND     1050\n",
       "AK     1050\n",
       "SD      988\n",
       "DC      983\n",
       "WY      962\n",
       "Name: addr_state, dtype: int64"
      ]
     },
     "execution_count": 103,
     "metadata": {},
     "output_type": "execute_result"
    }
   ],
   "source": [
    "train.addr_state.value_counts()"
   ]
  },
  {
   "cell_type": "code",
   "execution_count": 104,
   "metadata": {},
   "outputs": [
    {
     "data": {
      "text/plain": [
       "Aug-2006    4265\n",
       "Aug-2005    3964\n",
       "Sep-2005    3963\n",
       "Aug-2007    3721\n",
       "Sep-2004    3674\n",
       "Sep-2006    3556\n",
       "May-2006    3380\n",
       "Aug-2004    3346\n",
       "Jun-2006    3303\n",
       "Oct-2005    3276\n",
       "Jul-2006    3274\n",
       "Sep-2003    3231\n",
       "Jun-2005    3223\n",
       "Nov-2005    3219\n",
       "Mar-2006    3208\n",
       "Oct-2004    3204\n",
       "Aug-2003    3161\n",
       "Oct-2006    3130\n",
       "Nov-2004    3128\n",
       "Jul-2005    3011\n",
       "Nov-2006    3010\n",
       "Apr-2006    2965\n",
       "Dec-2005    2944\n",
       "Mar-2005    2938\n",
       "Jul-2004    2935\n",
       "Oct-2003    2931\n",
       "Dec-2004    2930\n",
       "Mar-2007    2897\n",
       "Jul-2003    2893\n",
       "May-2005    2849\n",
       "            ... \n",
       "Jun-1962       2\n",
       "May-1963       2\n",
       "Sep-1961       2\n",
       "Jan-1954       2\n",
       "Jul-1961       2\n",
       "Jul-1960       2\n",
       "Aug-1958       2\n",
       "Jan-1953       1\n",
       "Oct-1962       1\n",
       "Sep-1962       1\n",
       "Dec-1960       1\n",
       "Apr-1957       1\n",
       "May-1960       1\n",
       "Feb-1961       1\n",
       "Jun-1959       1\n",
       "Mar-1954       1\n",
       "Dec-1947       1\n",
       "Aug-1959       1\n",
       "Mar-1959       1\n",
       "Jul-1962       1\n",
       "Apr-1955       1\n",
       "Apr-1960       1\n",
       "Apr-1962       1\n",
       "Apr-1959       1\n",
       "Jan-1957       1\n",
       "Jul-1950       1\n",
       "Jun-1956       1\n",
       "Feb-1958       1\n",
       "Feb-1962       1\n",
       "Aug-1962       1\n",
       "Name: earliest_cr_line, Length: 684, dtype: int64"
      ]
     },
     "execution_count": 104,
     "metadata": {},
     "output_type": "execute_result"
    }
   ],
   "source": [
    "train.earliest_cr_line.value_counts()"
   ]
  },
  {
   "cell_type": "code",
   "execution_count": 105,
   "metadata": {},
   "outputs": [],
   "source": [
    "train[\"early_year\"] = train.earliest_cr_line.apply(lambda x : int(x.split(\"-\")[1]))"
   ]
  },
  {
   "cell_type": "code",
   "execution_count": 106,
   "metadata": {},
   "outputs": [],
   "source": [
    "train[\"long_year\"] = 2019 - train[\"early_year\"]"
   ]
  },
  {
   "cell_type": "code",
   "execution_count": 107,
   "metadata": {},
   "outputs": [
    {
     "data": {
      "text/html": [
       "<div>\n",
       "<style scoped>\n",
       "    .dataframe tbody tr th:only-of-type {\n",
       "        vertical-align: middle;\n",
       "    }\n",
       "\n",
       "    .dataframe tbody tr th {\n",
       "        vertical-align: top;\n",
       "    }\n",
       "\n",
       "    .dataframe thead th {\n",
       "        text-align: right;\n",
       "    }\n",
       "</style>\n",
       "<table border=\"1\" class=\"dataframe\">\n",
       "  <thead>\n",
       "    <tr style=\"text-align: right;\">\n",
       "      <th></th>\n",
       "      <th>loan_amnt</th>\n",
       "      <th>funded_amnt</th>\n",
       "      <th>funded_amnt_inv</th>\n",
       "      <th>term</th>\n",
       "      <th>int_rate</th>\n",
       "      <th>installment</th>\n",
       "      <th>grade</th>\n",
       "      <th>sub_grade</th>\n",
       "      <th>emp_length</th>\n",
       "      <th>home_ownership</th>\n",
       "      <th>...</th>\n",
       "      <th>disbursement_method</th>\n",
       "      <th>debt_settlement_flag</th>\n",
       "      <th>last_credit_pull_d_month</th>\n",
       "      <th>last_credit_pull_d_year</th>\n",
       "      <th>loan_month</th>\n",
       "      <th>loan_year</th>\n",
       "      <th>loan_last_start</th>\n",
       "      <th>label</th>\n",
       "      <th>early_year</th>\n",
       "      <th>long_year</th>\n",
       "    </tr>\n",
       "  </thead>\n",
       "  <tbody>\n",
       "    <tr>\n",
       "      <th>0</th>\n",
       "      <td>30000.0</td>\n",
       "      <td>30000.0</td>\n",
       "      <td>30000.0</td>\n",
       "      <td>36 months</td>\n",
       "      <td>7.34</td>\n",
       "      <td>930.99</td>\n",
       "      <td>A</td>\n",
       "      <td>A4</td>\n",
       "      <td>3 years</td>\n",
       "      <td>OWN</td>\n",
       "      <td>...</td>\n",
       "      <td>Cash</td>\n",
       "      <td>N</td>\n",
       "      <td>1</td>\n",
       "      <td>2019</td>\n",
       "      <td>3</td>\n",
       "      <td>2018</td>\n",
       "      <td>10</td>\n",
       "      <td>0</td>\n",
       "      <td>2009</td>\n",
       "      <td>10</td>\n",
       "    </tr>\n",
       "    <tr>\n",
       "      <th>1</th>\n",
       "      <td>34825.0</td>\n",
       "      <td>34825.0</td>\n",
       "      <td>34825.0</td>\n",
       "      <td>60 months</td>\n",
       "      <td>12.61</td>\n",
       "      <td>785.45</td>\n",
       "      <td>C</td>\n",
       "      <td>C1</td>\n",
       "      <td>2 years</td>\n",
       "      <td>MORTGAGE</td>\n",
       "      <td>...</td>\n",
       "      <td>Cash</td>\n",
       "      <td>N</td>\n",
       "      <td>2</td>\n",
       "      <td>2019</td>\n",
       "      <td>3</td>\n",
       "      <td>2018</td>\n",
       "      <td>11</td>\n",
       "      <td>0</td>\n",
       "      <td>2003</td>\n",
       "      <td>16</td>\n",
       "    </tr>\n",
       "  </tbody>\n",
       "</table>\n",
       "<p>2 rows × 107 columns</p>\n",
       "</div>"
      ],
      "text/plain": [
       "   loan_amnt  funded_amnt  funded_amnt_inv        term  int_rate  installment  \\\n",
       "0    30000.0      30000.0          30000.0   36 months      7.34       930.99   \n",
       "1    34825.0      34825.0          34825.0   60 months     12.61       785.45   \n",
       "\n",
       "  grade sub_grade emp_length home_ownership    ...      disbursement_method  \\\n",
       "0     A        A4    3 years            OWN    ...                     Cash   \n",
       "1     C        C1    2 years       MORTGAGE    ...                     Cash   \n",
       "\n",
       "  debt_settlement_flag last_credit_pull_d_month last_credit_pull_d_year  \\\n",
       "0                    N                        1                    2019   \n",
       "1                    N                        2                    2019   \n",
       "\n",
       "  loan_month loan_year loan_last_start label  early_year  long_year  \n",
       "0          3      2018              10     0        2009         10  \n",
       "1          3      2018              11     0        2003         16  \n",
       "\n",
       "[2 rows x 107 columns]"
      ]
     },
     "execution_count": 107,
     "metadata": {},
     "output_type": "execute_result"
    }
   ],
   "source": [
    "train.head(2)"
   ]
  },
  {
   "cell_type": "code",
   "execution_count": 108,
   "metadata": {},
   "outputs": [
    {
     "data": {
      "text/plain": [
       "w    427183\n",
       "f     68059\n",
       "Name: initial_list_status, dtype: int64"
      ]
     },
     "execution_count": 108,
     "metadata": {},
     "output_type": "execute_result"
    }
   ],
   "source": [
    "train.initial_list_status.value_counts()"
   ]
  },
  {
   "cell_type": "code",
   "execution_count": 110,
   "metadata": {},
   "outputs": [
    {
     "data": {
      "text/plain": [
       "Feb-2019    435930\n",
       "Jan-2019     15616\n",
       "Dec-2018      7005\n",
       "Nov-2018      6629\n",
       "Oct-2018      6245\n",
       "Aug-2018      5006\n",
       "Sep-2018      4833\n",
       "Jul-2018      3846\n",
       "Jun-2018      3153\n",
       "May-2018      2420\n",
       "Apr-2018      1617\n",
       "Mar-2018      1309\n",
       "Feb-2018       736\n",
       "Jan-2018       258\n",
       "Name: last_pymnt_d, dtype: int64"
      ]
     },
     "execution_count": 110,
     "metadata": {},
     "output_type": "execute_result"
    }
   ],
   "source": [
    "train.last_pymnt_d.value_counts()"
   ]
  },
  {
   "cell_type": "code",
   "execution_count": 111,
   "metadata": {},
   "outputs": [
    {
     "data": {
      "text/plain": [
       "Mar-2019    447915\n",
       "Feb-2019       103\n",
       "Apr-2019        41\n",
       "Dec-2018         1\n",
       "Name: next_pymnt_d, dtype: int64"
      ]
     },
     "execution_count": 111,
     "metadata": {},
     "output_type": "execute_result"
    }
   ],
   "source": [
    "train.next_pymnt_d.value_counts()"
   ]
  },
  {
   "cell_type": "code",
   "execution_count": 112,
   "metadata": {},
   "outputs": [],
   "source": [
    "train.drop([\"next_pymnt_d\"],axis=1,inplace=True)"
   ]
  },
  {
   "cell_type": "code",
   "execution_count": 113,
   "metadata": {},
   "outputs": [
    {
     "data": {
      "text/plain": [
       "Feb-2019    462780\n",
       "Jan-2019      8695\n",
       "Dec-2018      5247\n",
       "Nov-2018      4407\n",
       "Oct-2018      3698\n",
       "Sep-2018      2535\n",
       "Aug-2018      2109\n",
       "Jul-2018      2107\n",
       "May-2018       956\n",
       "Apr-2018       726\n",
       "Mar-2018       611\n",
       "Jun-2018       459\n",
       "Feb-2018       446\n",
       "Jan-2018       395\n",
       "Dec-2017        70\n",
       "Nov-2017         1\n",
       "Name: last_credit_pull_d, dtype: int64"
      ]
     },
     "execution_count": 113,
     "metadata": {},
     "output_type": "execute_result"
    }
   ],
   "source": [
    "train.last_credit_pull_d.value_counts()"
   ]
  },
  {
   "cell_type": "code",
   "execution_count": 114,
   "metadata": {},
   "outputs": [
    {
     "data": {
      "text/plain": [
       "Individual    426257\n",
       "Joint App      68985\n",
       "Name: application_type, dtype: int64"
      ]
     },
     "execution_count": 114,
     "metadata": {},
     "output_type": "execute_result"
    }
   ],
   "source": [
    "train.application_type.value_counts()"
   ]
  },
  {
   "cell_type": "code",
   "execution_count": 115,
   "metadata": {},
   "outputs": [
    {
     "data": {
      "text/plain": [
       "N    495111\n",
       "Y       131\n",
       "Name: hardship_flag, dtype: int64"
      ]
     },
     "execution_count": 115,
     "metadata": {},
     "output_type": "execute_result"
    }
   ],
   "source": [
    "train.hardship_flag.value_counts()"
   ]
  },
  {
   "cell_type": "code",
   "execution_count": 116,
   "metadata": {},
   "outputs": [
    {
     "data": {
      "text/plain": [
       "Cash         423884\n",
       "DirectPay     71358\n",
       "Name: disbursement_method, dtype: int64"
      ]
     },
     "execution_count": 116,
     "metadata": {},
     "output_type": "execute_result"
    }
   ],
   "source": [
    "train.disbursement_method.value_counts()"
   ]
  },
  {
   "cell_type": "code",
   "execution_count": 117,
   "metadata": {},
   "outputs": [
    {
     "data": {
      "text/plain": [
       "N    494866\n",
       "Y       376\n",
       "Name: debt_settlement_flag, dtype: int64"
      ]
     },
     "execution_count": 117,
     "metadata": {},
     "output_type": "execute_result"
    }
   ],
   "source": [
    "train.debt_settlement_flag.value_counts()"
   ]
  },
  {
   "cell_type": "code",
   "execution_count": 118,
   "metadata": {},
   "outputs": [],
   "source": [
    "train.drop([\"earliest_cr_line\",\"early_year\"],axis=1,inplace=True)"
   ]
  },
  {
   "cell_type": "code",
   "execution_count": 119,
   "metadata": {},
   "outputs": [
    {
     "data": {
      "text/html": [
       "<div>\n",
       "<style scoped>\n",
       "    .dataframe tbody tr th:only-of-type {\n",
       "        vertical-align: middle;\n",
       "    }\n",
       "\n",
       "    .dataframe tbody tr th {\n",
       "        vertical-align: top;\n",
       "    }\n",
       "\n",
       "    .dataframe thead th {\n",
       "        text-align: right;\n",
       "    }\n",
       "</style>\n",
       "<table border=\"1\" class=\"dataframe\">\n",
       "  <thead>\n",
       "    <tr style=\"text-align: right;\">\n",
       "      <th></th>\n",
       "      <th>loan_amnt</th>\n",
       "      <th>funded_amnt</th>\n",
       "      <th>funded_amnt_inv</th>\n",
       "      <th>term</th>\n",
       "      <th>int_rate</th>\n",
       "      <th>installment</th>\n",
       "      <th>grade</th>\n",
       "      <th>sub_grade</th>\n",
       "      <th>emp_length</th>\n",
       "      <th>home_ownership</th>\n",
       "      <th>...</th>\n",
       "      <th>hardship_flag</th>\n",
       "      <th>disbursement_method</th>\n",
       "      <th>debt_settlement_flag</th>\n",
       "      <th>last_credit_pull_d_month</th>\n",
       "      <th>last_credit_pull_d_year</th>\n",
       "      <th>loan_month</th>\n",
       "      <th>loan_year</th>\n",
       "      <th>loan_last_start</th>\n",
       "      <th>label</th>\n",
       "      <th>long_year</th>\n",
       "    </tr>\n",
       "  </thead>\n",
       "  <tbody>\n",
       "    <tr>\n",
       "      <th>0</th>\n",
       "      <td>30000.0</td>\n",
       "      <td>30000.0</td>\n",
       "      <td>30000.0</td>\n",
       "      <td>36 months</td>\n",
       "      <td>7.34</td>\n",
       "      <td>930.99</td>\n",
       "      <td>A</td>\n",
       "      <td>A4</td>\n",
       "      <td>3 years</td>\n",
       "      <td>OWN</td>\n",
       "      <td>...</td>\n",
       "      <td>N</td>\n",
       "      <td>Cash</td>\n",
       "      <td>N</td>\n",
       "      <td>1</td>\n",
       "      <td>2019</td>\n",
       "      <td>3</td>\n",
       "      <td>2018</td>\n",
       "      <td>10</td>\n",
       "      <td>0</td>\n",
       "      <td>10</td>\n",
       "    </tr>\n",
       "    <tr>\n",
       "      <th>1</th>\n",
       "      <td>34825.0</td>\n",
       "      <td>34825.0</td>\n",
       "      <td>34825.0</td>\n",
       "      <td>60 months</td>\n",
       "      <td>12.61</td>\n",
       "      <td>785.45</td>\n",
       "      <td>C</td>\n",
       "      <td>C1</td>\n",
       "      <td>2 years</td>\n",
       "      <td>MORTGAGE</td>\n",
       "      <td>...</td>\n",
       "      <td>N</td>\n",
       "      <td>Cash</td>\n",
       "      <td>N</td>\n",
       "      <td>2</td>\n",
       "      <td>2019</td>\n",
       "      <td>3</td>\n",
       "      <td>2018</td>\n",
       "      <td>11</td>\n",
       "      <td>0</td>\n",
       "      <td>16</td>\n",
       "    </tr>\n",
       "  </tbody>\n",
       "</table>\n",
       "<p>2 rows × 104 columns</p>\n",
       "</div>"
      ],
      "text/plain": [
       "   loan_amnt  funded_amnt  funded_amnt_inv        term  int_rate  installment  \\\n",
       "0    30000.0      30000.0          30000.0   36 months      7.34       930.99   \n",
       "1    34825.0      34825.0          34825.0   60 months     12.61       785.45   \n",
       "\n",
       "  grade sub_grade emp_length home_ownership    ...      hardship_flag  \\\n",
       "0     A        A4    3 years            OWN    ...                  N   \n",
       "1     C        C1    2 years       MORTGAGE    ...                  N   \n",
       "\n",
       "  disbursement_method debt_settlement_flag last_credit_pull_d_month  \\\n",
       "0                Cash                    N                        1   \n",
       "1                Cash                    N                        2   \n",
       "\n",
       "  last_credit_pull_d_year loan_month loan_year loan_last_start  label  \\\n",
       "0                    2019          3      2018              10      0   \n",
       "1                    2019          3      2018              11      0   \n",
       "\n",
       "   long_year  \n",
       "0         10  \n",
       "1         16  \n",
       "\n",
       "[2 rows x 104 columns]"
      ]
     },
     "execution_count": 119,
     "metadata": {},
     "output_type": "execute_result"
    }
   ],
   "source": [
    "train.head(2)"
   ]
  },
  {
   "cell_type": "code",
   "execution_count": 121,
   "metadata": {},
   "outputs": [
    {
     "data": {
      "text/plain": [
       "10+ years    160382\n",
       "2 years       44747\n",
       "< 1 year      43627\n",
       "3 years       40629\n",
       "1 year        33167\n",
       "4 years       31262\n",
       "5 years       30854\n",
       "6 years       21977\n",
       "7 years       17961\n",
       "8 years       16027\n",
       "9 years       12622\n",
       "Name: emp_length, dtype: int64"
      ]
     },
     "execution_count": 121,
     "metadata": {},
     "output_type": "execute_result"
    }
   ],
   "source": [
    "train.emp_length.value_counts()"
   ]
  },
  {
   "cell_type": "code",
   "execution_count": 123,
   "metadata": {},
   "outputs": [],
   "source": [
    "train.emp_length = train.emp_length.fillna(\"10 years\")"
   ]
  },
  {
   "cell_type": "code",
   "execution_count": 124,
   "metadata": {},
   "outputs": [],
   "source": [
    "def getwork(x):\n",
    "    if \"+\" in x:\n",
    "        return 10\n",
    "    else:\n",
    "        if \"<\" in x:\n",
    "            return 0\n",
    "        else:\n",
    "            return int(x.split(\" \")[0])"
   ]
  },
  {
   "cell_type": "code",
   "execution_count": 125,
   "metadata": {},
   "outputs": [],
   "source": [
    "train[\"work_long\"] = train.emp_length.apply(lambda x : getwork(x))"
   ]
  },
  {
   "cell_type": "code",
   "execution_count": 126,
   "metadata": {},
   "outputs": [
    {
     "data": {
      "text/html": [
       "<div>\n",
       "<style scoped>\n",
       "    .dataframe tbody tr th:only-of-type {\n",
       "        vertical-align: middle;\n",
       "    }\n",
       "\n",
       "    .dataframe tbody tr th {\n",
       "        vertical-align: top;\n",
       "    }\n",
       "\n",
       "    .dataframe thead th {\n",
       "        text-align: right;\n",
       "    }\n",
       "</style>\n",
       "<table border=\"1\" class=\"dataframe\">\n",
       "  <thead>\n",
       "    <tr style=\"text-align: right;\">\n",
       "      <th></th>\n",
       "      <th>loan_amnt</th>\n",
       "      <th>funded_amnt</th>\n",
       "      <th>funded_amnt_inv</th>\n",
       "      <th>term</th>\n",
       "      <th>int_rate</th>\n",
       "      <th>installment</th>\n",
       "      <th>grade</th>\n",
       "      <th>sub_grade</th>\n",
       "      <th>emp_length</th>\n",
       "      <th>home_ownership</th>\n",
       "      <th>...</th>\n",
       "      <th>disbursement_method</th>\n",
       "      <th>debt_settlement_flag</th>\n",
       "      <th>last_credit_pull_d_month</th>\n",
       "      <th>last_credit_pull_d_year</th>\n",
       "      <th>loan_month</th>\n",
       "      <th>loan_year</th>\n",
       "      <th>loan_last_start</th>\n",
       "      <th>label</th>\n",
       "      <th>long_year</th>\n",
       "      <th>work_long</th>\n",
       "    </tr>\n",
       "  </thead>\n",
       "  <tbody>\n",
       "    <tr>\n",
       "      <th>0</th>\n",
       "      <td>30000.0</td>\n",
       "      <td>30000.0</td>\n",
       "      <td>30000.0</td>\n",
       "      <td>36 months</td>\n",
       "      <td>7.34</td>\n",
       "      <td>930.99</td>\n",
       "      <td>A</td>\n",
       "      <td>A4</td>\n",
       "      <td>3 years</td>\n",
       "      <td>OWN</td>\n",
       "      <td>...</td>\n",
       "      <td>Cash</td>\n",
       "      <td>N</td>\n",
       "      <td>1</td>\n",
       "      <td>2019</td>\n",
       "      <td>3</td>\n",
       "      <td>2018</td>\n",
       "      <td>10</td>\n",
       "      <td>0</td>\n",
       "      <td>10</td>\n",
       "      <td>3</td>\n",
       "    </tr>\n",
       "  </tbody>\n",
       "</table>\n",
       "<p>1 rows × 105 columns</p>\n",
       "</div>"
      ],
      "text/plain": [
       "   loan_amnt  funded_amnt  funded_amnt_inv        term  int_rate  installment  \\\n",
       "0    30000.0      30000.0          30000.0   36 months      7.34       930.99   \n",
       "\n",
       "  grade sub_grade emp_length home_ownership    ...      disbursement_method  \\\n",
       "0     A        A4    3 years            OWN    ...                     Cash   \n",
       "\n",
       "  debt_settlement_flag last_credit_pull_d_month last_credit_pull_d_year  \\\n",
       "0                    N                        1                    2019   \n",
       "\n",
       "  loan_month loan_year loan_last_start label  long_year  work_long  \n",
       "0          3      2018              10     0         10          3  \n",
       "\n",
       "[1 rows x 105 columns]"
      ]
     },
     "execution_count": 126,
     "metadata": {},
     "output_type": "execute_result"
    }
   ],
   "source": [
    "train.head(1)"
   ]
  },
  {
   "cell_type": "code",
   "execution_count": 127,
   "metadata": {},
   "outputs": [],
   "source": [
    "train.drop([\"emp_length\"],axis=1,inplace=True)"
   ]
  },
  {
   "cell_type": "code",
   "execution_count": 128,
   "metadata": {},
   "outputs": [
    {
     "name": "stdout",
     "output_type": "stream",
     "text": [
      "Column term has 2 unique instances\n",
      "Column grade has 7 unique instances\n",
      "Column sub_grade has 35 unique instances\n",
      "Column home_ownership has 4 unique instances\n",
      "Column verification_status has 3 unique instances\n",
      "Column issue_d has 12 unique instances\n",
      "Column loan_status has 7 unique instances\n",
      "Column pymnt_plan has 2 unique instances\n",
      "Column purpose has 13 unique instances\n",
      "Column title has 12 unique instances\n",
      "Column addr_state has 50 unique instances\n",
      "Column initial_list_status has 2 unique instances\n",
      "Column last_pymnt_d has 15 unique instances\n",
      "Column last_credit_pull_d has 16 unique instances\n",
      "Column application_type has 2 unique instances\n",
      "Column hardship_flag has 2 unique instances\n",
      "Column disbursement_method has 2 unique instances\n",
      "Column debt_settlement_flag has 2 unique instances\n"
     ]
    }
   ],
   "source": [
    "for col in train.select_dtypes(include=['object']).columns:\n",
    "    print (\"Column {} has {} unique instances\".format( col, len(train[col].unique())) )"
   ]
  },
  {
   "cell_type": "code",
   "execution_count": 130,
   "metadata": {},
   "outputs": [],
   "source": [
    "train.drop([\"issue_d\",\"last_credit_pull_d\",\"last_pymnt_d\",\"loan_status\",\"issue_d\"],axis=1,inplace=True)"
   ]
  },
  {
   "cell_type": "code",
   "execution_count": 131,
   "metadata": {},
   "outputs": [
    {
     "name": "stdout",
     "output_type": "stream",
     "text": [
      "<class 'pandas.core.frame.DataFrame'>\n",
      "Int64Index: 495242 entries, 0 to 128411\n",
      "Data columns (total 100 columns):\n",
      "loan_amnt                     495242 non-null float64\n",
      "funded_amnt                   495242 non-null float64\n",
      "funded_amnt_inv               495242 non-null float64\n",
      "term                          495242 non-null object\n",
      "int_rate                      495242 non-null float64\n",
      "installment                   495242 non-null float64\n",
      "grade                         495242 non-null object\n",
      "sub_grade                     495242 non-null object\n",
      "home_ownership                495242 non-null object\n",
      "annual_inc                    495242 non-null float64\n",
      "verification_status           495242 non-null object\n",
      "pymnt_plan                    495242 non-null object\n",
      "purpose                       495242 non-null object\n",
      "title                         495242 non-null object\n",
      "addr_state                    495242 non-null object\n",
      "dti                           494110 non-null float64\n",
      "delinq_2yrs                   495242 non-null float64\n",
      "inq_last_6mths                495242 non-null float64\n",
      "open_acc                      495242 non-null float64\n",
      "pub_rec                       495242 non-null float64\n",
      "revol_bal                     495242 non-null float64\n",
      "total_acc                     495242 non-null float64\n",
      "initial_list_status           495242 non-null object\n",
      "out_prncp                     495242 non-null float64\n",
      "out_prncp_inv                 495242 non-null float64\n",
      "total_pymnt                   495242 non-null float64\n",
      "total_pymnt_inv               495242 non-null float64\n",
      "total_rec_prncp               495242 non-null float64\n",
      "total_rec_int                 495242 non-null float64\n",
      "total_rec_late_fee            495242 non-null float64\n",
      "recoveries                    495242 non-null float64\n",
      "collection_recovery_fee       495242 non-null float64\n",
      "last_pymnt_amnt               495242 non-null float64\n",
      "collections_12_mths_ex_med    495242 non-null float64\n",
      "policy_code                   495242 non-null float64\n",
      "application_type              495242 non-null object\n",
      "acc_now_delinq                495242 non-null float64\n",
      "tot_coll_amt                  495242 non-null float64\n",
      "tot_cur_bal                   495242 non-null float64\n",
      "open_acc_6m                   495242 non-null float64\n",
      "open_act_il                   495242 non-null float64\n",
      "open_il_12m                   495242 non-null float64\n",
      "open_il_24m                   495242 non-null float64\n",
      "mths_since_rcnt_il            476832 non-null float64\n",
      "total_bal_il                  495242 non-null float64\n",
      "il_util                       414418 non-null float64\n",
      "open_rv_12m                   495242 non-null float64\n",
      "open_rv_24m                   495242 non-null float64\n",
      "max_bal_bc                    495242 non-null float64\n",
      "all_util                      495113 non-null float64\n",
      "total_rev_hi_lim              495242 non-null float64\n",
      "inq_fi                        495242 non-null float64\n",
      "total_cu_tl                   495242 non-null float64\n",
      "inq_last_12m                  495242 non-null float64\n",
      "acc_open_past_24mths          495242 non-null float64\n",
      "avg_cur_bal                   495202 non-null float64\n",
      "bc_open_to_buy                488654 non-null float64\n",
      "bc_util                       488439 non-null float64\n",
      "chargeoff_within_12_mths      495242 non-null float64\n",
      "delinq_amnt                   495242 non-null float64\n",
      "mo_sin_old_il_acct            476832 non-null float64\n",
      "mo_sin_old_rev_tl_op          495242 non-null float64\n",
      "mo_sin_rcnt_rev_tl_op         495242 non-null float64\n",
      "mo_sin_rcnt_tl                495242 non-null float64\n",
      "mort_acc                      495242 non-null float64\n",
      "mths_since_recent_bc          489044 non-null float64\n",
      "mths_since_recent_inq         433937 non-null float64\n",
      "num_accts_ever_120_pd         495242 non-null float64\n",
      "num_actv_bc_tl                495242 non-null float64\n",
      "num_actv_rev_tl               495242 non-null float64\n",
      "num_bc_sats                   495242 non-null float64\n",
      "num_bc_tl                     495242 non-null float64\n",
      "num_il_tl                     495242 non-null float64\n",
      "num_op_rev_tl                 495242 non-null float64\n",
      "num_rev_accts                 495242 non-null float64\n",
      "num_rev_tl_bal_gt_0           495242 non-null float64\n",
      "num_sats                      495242 non-null float64\n",
      "num_tl_120dpd_2m              482838 non-null float64\n",
      "num_tl_30dpd                  495242 non-null float64\n",
      "num_tl_90g_dpd_24m            495242 non-null float64\n",
      "num_tl_op_past_12m            495242 non-null float64\n",
      "pct_tl_nvr_dlq                495240 non-null float64\n",
      "percent_bc_gt_75              488646 non-null float64\n",
      "pub_rec_bankruptcies          495242 non-null float64\n",
      "tax_liens                     495242 non-null float64\n",
      "tot_hi_cred_lim               495242 non-null float64\n",
      "total_bal_ex_mort             495242 non-null float64\n",
      "total_bc_limit                495242 non-null float64\n",
      "total_il_high_credit_limit    495242 non-null float64\n",
      "hardship_flag                 495242 non-null object\n",
      "disbursement_method           495242 non-null object\n",
      "debt_settlement_flag          495242 non-null object\n",
      "last_credit_pull_d_month      495242 non-null int64\n",
      "last_credit_pull_d_year       495242 non-null int64\n",
      "loan_month                    495242 non-null int64\n",
      "loan_year                     495242 non-null int64\n",
      "loan_last_start               495242 non-null int64\n",
      "label                         495242 non-null int64\n",
      "long_year                     495242 non-null int64\n",
      "work_long                     495242 non-null int64\n",
      "dtypes: float64(78), int64(8), object(14)\n",
      "memory usage: 391.6+ MB\n"
     ]
    }
   ],
   "source": [
    "train.info()"
   ]
  },
  {
   "cell_type": "code",
   "execution_count": 132,
   "metadata": {},
   "outputs": [
    {
     "name": "stdout",
     "output_type": "stream",
     "text": [
      "Column term has 2 unique instances\n",
      "Column grade has 7 unique instances\n",
      "Column sub_grade has 35 unique instances\n",
      "Column home_ownership has 4 unique instances\n",
      "Column verification_status has 3 unique instances\n",
      "Column pymnt_plan has 2 unique instances\n",
      "Column purpose has 13 unique instances\n",
      "Column title has 12 unique instances\n",
      "Column addr_state has 50 unique instances\n",
      "Column initial_list_status has 2 unique instances\n",
      "Column application_type has 2 unique instances\n",
      "Column hardship_flag has 2 unique instances\n",
      "Column disbursement_method has 2 unique instances\n",
      "Column debt_settlement_flag has 2 unique instances\n"
     ]
    }
   ],
   "source": [
    "for col in train.select_dtypes(include=['object']).columns:\n",
    "    train."
   ]
  },
  {
   "cell_type": "code",
   "execution_count": null,
   "metadata": {},
   "outputs": [],
   "source": [
    "train.to_csv(\"tmp.csv\")"
   ]
  },
  {
   "cell_type": "code",
   "execution_count": null,
   "metadata": {},
   "outputs": [],
   "source": []
  }
 ],
 "metadata": {
  "kernelspec": {
   "display_name": "Python 3",
   "language": "python",
   "name": "python3"
  },
  "language_info": {
   "codemirror_mode": {
    "name": "ipython",
    "version": 3
   },
   "file_extension": ".py",
   "mimetype": "text/x-python",
   "name": "python",
   "nbconvert_exporter": "python",
   "pygments_lexer": "ipython3",
   "version": "3.6.6"
  }
 },
 "nbformat": 4,
 "nbformat_minor": 2
}
